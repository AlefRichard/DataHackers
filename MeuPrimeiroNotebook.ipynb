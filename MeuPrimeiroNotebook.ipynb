{
 "cells": [
  {
   "cell_type": "code",
   "execution_count": 42,
   "metadata": {},
   "outputs": [
    {
     "data": {
      "text/plain": [
       "(123, 456, 789)"
      ]
     },
     "execution_count": 42,
     "metadata": {},
     "output_type": "execute_result"
    }
   ],
   "source": [
    "...\n",
    "inteiro = 1\n",
    "flutuante = 1.0\n",
    "caracter = 'Alef'\n",
    "\n",
    "a = 2.4\n",
    "b = 1.34\n",
    "\n",
    "a + b\n",
    "\n",
    "booleana = True\n",
    "\n",
    "lista = [1,1.34,'teste']\n",
    "# print(lista)\n",
    "lista[0]\n",
    "\n",
    "\n",
    "dicionario = {'Nome':'Alef','Idade':'24'}\n",
    "dicionario\n",
    "...\n",
    "\n",
    "tupla =(123, 456, 789)\n",
    "tupla"
   ]
  },
  {
   "cell_type": "code",
   "execution_count": 43,
   "metadata": {},
   "outputs": [
    {
     "name": "stdout",
     "output_type": "stream",
     "text": [
      "maçã\n",
      "banana\n",
      "mamão\n"
     ]
    }
   ],
   "source": [
    "lista_for= [\"maçã\",\"banana\",\"mamão\"]\n",
    "for fruta in lista_for:\n",
    "    print(fruta)"
   ]
  },
  {
   "cell_type": "code",
   "execution_count": 49,
   "metadata": {},
   "outputs": [
    {
     "name": "stdout",
     "output_type": "stream",
     "text": [
      "1\n",
      "2\n",
      "3\n",
      "4\n",
      "5\n",
      "6\n",
      "7\n",
      "8\n",
      "9\n",
      "10\n"
     ]
    }
   ],
   "source": [
    "numero = 0\n",
    "while numero < 10:\n",
    "    numero += 1\n",
    "    print(numero)"
   ]
  },
  {
   "cell_type": "code",
   "execution_count": 4,
   "metadata": {},
   "outputs": [
    {
     "name": "stdout",
     "output_type": "stream",
     "text": [
      "É igual a 2\n"
     ]
    }
   ],
   "source": [
    "var = 2\n",
    "\n",
    "if var == 2:\n",
    "    print(\"É igual a 2\")\n",
    "else:\n",
    "    print(\"Diferente de 2\")"
   ]
  },
  {
   "cell_type": "code",
   "execution_count": 8,
   "metadata": {},
   "outputs": [
    {
     "data": {
      "text/plain": [
       "4"
      ]
     },
     "execution_count": 8,
     "metadata": {},
     "output_type": "execute_result"
    }
   ],
   "source": [
    "def testeFunction(x):\n",
    "    return x * 2\n",
    "\n",
    "testeFunction(var)"
   ]
  },
  {
   "cell_type": "code",
   "execution_count": 9,
   "metadata": {},
   "outputs": [
    {
     "name": "stdout",
     "output_type": "stream",
     "text": [
      "Nome errado!!!!\n"
     ]
    }
   ],
   "source": [
    "try:\n",
    "    print(var2)\n",
    "except NameError:\n",
    "    print('Nome errado!!!!')"
   ]
  },
  {
   "cell_type": "code",
   "execution_count": null,
   "metadata": {},
   "outputs": [],
   "source": []
  }
 ],
 "metadata": {
  "kernelspec": {
   "display_name": "Python 3",
   "language": "python",
   "name": "python3"
  },
  "language_info": {
   "codemirror_mode": {
    "name": "ipython",
    "version": 3
   },
   "file_extension": ".py",
   "mimetype": "text/x-python",
   "name": "python",
   "nbconvert_exporter": "python",
   "pygments_lexer": "ipython3",
   "version": "3.7.0"
  }
 },
 "nbformat": 4,
 "nbformat_minor": 2
}
